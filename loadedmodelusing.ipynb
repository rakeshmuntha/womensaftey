{
  "nbformat": 4,
  "nbformat_minor": 0,
  "metadata": {
    "colab": {
      "provenance": []
    },
    "kernelspec": {
      "name": "python3",
      "display_name": "Python 3"
    },
    "language_info": {
      "name": "python"
    }
  },
  "cells": [
    {
      "cell_type": "code",
      "execution_count": 1,
      "metadata": {
        "id": "czPZEvTLuvNb"
      },
      "outputs": [],
      "source": [
        "import pickle\n",
        "\n",
        "loaded_model=pickle.load(open('/content/trained_model.sav','rb'))\n"
      ]
    },
    {
      "cell_type": "code",
      "source": [
        "nc = 'women are beautiful'\n",
        "# Transform the new text using the same vectorize\n",
        "vectorizer = pickle.load(open('/content/vectorizer (1).sav', 'rb'))\n",
        "nc_vectorized = vectorizer.transform([nc])\n",
        "\n",
        "# Now predict using the transformed data\n",
        "predi = loaded_model.predict(nc_vectorized)\n",
        "print(predi[0])"
      ],
      "metadata": {
        "colab": {
          "base_uri": "https://localhost:8080/"
        },
        "id": "uoxj5YCX2Fiv",
        "outputId": "644cce8e-f935-4fb7-c56d-f2e2a74da055"
      },
      "execution_count": 4,
      "outputs": [
        {
          "output_type": "stream",
          "name": "stdout",
          "text": [
            "positive\n"
          ]
        }
      ]
    }
  ]
}