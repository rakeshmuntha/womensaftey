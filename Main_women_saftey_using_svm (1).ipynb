{
  "cells": [
    {
      "cell_type": "code",
      "execution_count": null,
      "metadata": {
        "id": "FRV2WyFCkkvB"
      },
      "outputs": [],
      "source": [
        "pip install tweepy\n",
        "pip install nltk\n",
        "pip install scikit-learn\n",
        "pip install matplotlib\n",
        "pip install seaborn"
      ]
    },
    {
      "cell_type": "code",
      "execution_count": null,
      "metadata": {
        "id": "XZoC4N66ZAYt"
      },
      "outputs": [],
      "source": [
        "import tweepy\n",
        "import pandas as pd\n",
        "\n",
        "api_key = '77bPxmrDKurTSB6ilGQ3eLfzQ'\n",
        "api_key_secret = 'C04TfeS4BGJCRmUCK4rhmNgEG0rAKjzvH3j7Wpl3Bzwn4hIHDG'\n",
        "access_token = '1851662064957415424-teS1YB5zBXNK2oLtqVlNOTRd64LOHC'\n",
        "access_token_secret = 'EQG4bLV31WD8rB8w7dR7gdQtxeXfc8I51E5aQyRIRXb1v'\n",
        "\n",
        "auth = tweepy.OAuthHandler(api_key, api_key_secret)\n",
        "auth.set_access_token(access_token, access_token_secret)\n",
        "api = tweepy.API(auth)\n",
        "\n",
        "def fetch_tweets(keyword, num_tweets):\n",
        "    tweets = tweepy.Cursor(api.search_tweets, q=keyword, lang=\"en\").items(num_tweets)\n",
        "    tweet_list = [[tweet.text] for tweet in tweets]\n",
        "    return pd.DataFrame(tweet_list, columns=[\"Tweet\"])\n",
        "\n",
        "data = fetch_tweets(\"women safety OR harassment OR #metoo\", 1000000)"
      ]
    },
    {
      "cell_type": "code",
      "execution_count": null,
      "metadata": {
        "colab": {
          "base_uri": "https://localhost:8080/",
          "height": 310
        },
        "id": "CAXTnRdVX4g9",
        "outputId": "509791de-d8d1-49f7-b048-17a2e455e893"
      },
      "outputs": [],
      "source": [
        "data.head()"
      ]
    },
    {
      "cell_type": "code",
      "execution_count": null,
      "metadata": {
        "id": "LKEOG4yCX4eV"
      },
      "outputs": [],
      "source": [
        "column_names =  ['text']"
      ]
    },
    {
      "cell_type": "code",
      "execution_count": null,
      "metadata": {
        "colab": {
          "base_uri": "https://localhost:8080/",
          "height": 206
        },
        "id": "TYFiev1RX4be",
        "outputId": "63ceac02-4dd3-4467-c5ac-0ca7484b9c8f"
      },
      "outputs": [],
      "source": [
        "data.head()"
      ]
    },
    {
      "cell_type": "code",
      "execution_count": null,
      "metadata": {
        "colab": {
          "base_uri": "https://localhost:8080/"
        },
        "id": "hQnnGeZRaQ9U",
        "outputId": "8c06aa89-7c36-48bf-86f0-76f7f2f549d2"
      },
      "outputs": [],
      "source": [
        "import re\n",
        "import nltk\n",
        "from nltk.corpus import stopwords\n",
        "from nltk.stem import WordNetLemmatizer\n",
        "\n",
        "nltk.download('stopwords')\n",
        "nltk.download('wordnet')\n",
        "lemmatizer = WordNetLemmatizer()\n",
        "stop_words = set(stopwords.words('english'))\n",
        "\n",
        "def preprocess_text(text):\n",
        "    text = re.sub(r'http\\S+|@\\S+|[^A-Za-z\\s]', '', text)\n",
        "    text = text.lower()\n",
        "    text = ' '.join([lemmatizer.lemmatize(word) for word in text.split() if word not in stop_words])\n",
        "    return text\n",
        "\n",
        "data['Cleaned_Tweet'] = data['text'].apply(preprocess_text)"
      ]
    },
    {
      "cell_type": "code",
      "execution_count": null,
      "metadata": {
        "colab": {
          "base_uri": "https://localhost:8080/",
          "height": 206
        },
        "id": "gxakj8f0aQ_Z",
        "outputId": "c5936a42-4cdb-4b8b-a93c-ca616f5bfa3b"
      },
      "outputs": [],
      "source": [
        "data.head()"
      ]
    },
    {
      "cell_type": "code",
      "execution_count": null,
      "metadata": {
        "colab": {
          "base_uri": "https://localhost:8080/"
        },
        "id": "pvUqKXGvaRCD",
        "outputId": "106f469f-a387-4011-be98-12c2a2911e63"
      },
      "outputs": [],
      "source": [
        "from nltk.sentiment.vader import SentimentIntensityAnalyzer\n",
        "\n",
        "nltk.download('vader_lexicon')\n",
        "sia = SentimentIntensityAnalyzer()"
      ]
    },
    {
      "cell_type": "code",
      "execution_count": null,
      "metadata": {
        "id": "yU-i4OHUtvqy"
      },
      "outputs": [],
      "source": [
        "def get_sentiment(text):\n",
        "    score = sia.polarity_scores(text)\n",
        "\n",
        "    if score['compound'] >= 0.05:\n",
        "        return 'positive'\n",
        "    elif score['compound'] <= -0.05:\n",
        "        return 'negative'\n",
        "    else:\n",
        "        return 'neutral'\n",
        "\n",
        "data['Sentiment'] = data['Cleaned_Tweet'].apply(get_sentiment)"
      ]
    },
    {
      "cell_type": "code",
      "execution_count": null,
      "metadata": {
        "colab": {
          "base_uri": "https://localhost:8080/",
          "height": 293
        },
        "id": "hIr00WqKaREX",
        "outputId": "66e2d6d8-9ef6-41d5-8029-2d1b382b6b41"
      },
      "outputs": [],
      "source": [
        "data.head()"
      ]
    },
    {
      "cell_type": "code",
      "execution_count": null,
      "metadata": {
        "id": "k_2306FOaRIy"
      },
      "outputs": [],
      "source": [
        "from sklearn.linear_model import LogisticRegression\n",
        "from sklearn.model_selection import train_test_split\n",
        "from sklearn.feature_extraction.text import TfidfVectorizer\n",
        "from sklearn.metrics import classification_report\n"
      ]
    },
    {
      "cell_type": "code",
      "execution_count": null,
      "metadata": {
        "colab": {
          "base_uri": "https://localhost:8080/"
        },
        "id": "Qql_8SA-fqsH",
        "outputId": "83cbf408-d559-4b05-dece-d480de7ac4d1"
      },
      "outputs": [],
      "source": [
        "from sklearn.feature_extraction.text import TfidfVectorizer\n",
        "import pickle\n",
        "\n",
        "\n",
        "vectorizer = TfidfVectorizer(max_features=2000)\n",
        "X = vectorizer.fit_transform(data['Cleaned_Tweet'])\n",
        "y = data['Sentiment']\n",
        "\n",
        "with open('vectorizer.sav', 'wb') as f:\n",
        "    pickle.dump(vectorizer, f)\n",
        "\n",
        "print(\"Vectorizer saved successfully!\")"
      ]
    },
    {
      "cell_type": "code",
      "execution_count": null,
      "metadata": {
        "colab": {
          "base_uri": "https://localhost:8080/"
        },
        "id": "fGkXMkM3fqvp",
        "outputId": "47e3b08c-8742-46bc-c9d4-8f1c6a33238f"
      },
      "outputs": [],
      "source": [
        "print(X)\n",
        "print(y)"
      ]
    },
    {
      "cell_type": "code",
      "execution_count": null,
      "metadata": {
        "colab": {
          "base_uri": "https://localhost:8080/"
        },
        "id": "-2pA35x5aRLI",
        "outputId": "0d6dea40-7b4d-4ae8-c4c0-1a1d00ffcbe9"
      },
      "outputs": [],
      "source": [
        "from sklearn.svm import SVC\n",
        "X_train, X_test, y_train, y_test = train_test_split(X, y, test_size=0.2, random_state=42)\n",
        "\n",
        "model = SVC(kernel='linear')\n",
        "model.fit(X_train, y_train)"
      ]
    },
    {
      "cell_type": "code",
      "execution_count": null,
      "metadata": {
        "id": "vMciaJq3aRNe"
      },
      "outputs": [],
      "source": [
        "y_pred = model.predict(X_test)\n",
        "print(classification_report(y_test, y_pred))"
      ]
    },
    {
      "cell_type": "code",
      "execution_count": null,
      "metadata": {
        "id": "J9LC-KBCh7M7"
      },
      "outputs": [],
      "source": [
        "import matplotlib.pyplot as plt\n",
        "import seaborn as sns\n",
        "\n",
        "sns.countplot(x='Sentiment', data=data)\n",
        "plt.title(\"Sentiment Distribution in Women's Safety Tweets\")\n",
        "plt.show()"
      ]
    },
    {
      "cell_type": "code",
      "execution_count": null,
      "metadata": {
        "id": "6eQzqz9piI7U"
      },
      "outputs": [],
      "source": [
        "from sklearn.metrics import accuracy_score\n",
        "\n",
        "X_train_prediction = model.predict(X_train)\n",
        "print(X_train_prediction)\n",
        "print(y_train)\n",
        "training_data_accuracy = accuracy_score(y_train,X_train_prediction)"
      ]
    },
    {
      "cell_type": "code",
      "execution_count": null,
      "metadata": {
        "id": "jHXeFbTIiI9j"
      },
      "outputs": [],
      "source": [
        "print('accuracy score on training data =',training_data_accuracy)"
      ]
    },
    {
      "cell_type": "code",
      "execution_count": null,
      "metadata": {
        "id": "QU5lgrQxiI_6"
      },
      "outputs": [],
      "source": [
        "X_test_prediction = model.predict(X_test)\n",
        "test_data_accuracy = accuracy_score(y_test,X_test_prediction)"
      ]
    },
    {
      "cell_type": "code",
      "execution_count": null,
      "metadata": {
        "id": "qLAKiTm1iJEG"
      },
      "outputs": [],
      "source": [
        "print('accuracy score on test data =',test_data_accuracy)"
      ]
    },
    {
      "cell_type": "code",
      "execution_count": null,
      "metadata": {
        "id": "OVahmRDTiJGq"
      },
      "outputs": [],
      "source": [
        "import pickle\n",
        "\n",
        "filename='trained_model.sav'\n",
        "pickle.dump(model,open(filename,'wb'))"
      ]
    },
    {
      "cell_type": "code",
      "execution_count": null,
      "metadata": {
        "id": "F3WXbmqTiJLI"
      },
      "outputs": [],
      "source": [
        "loaded_model=pickle.load(open('/content/trained_model.sav','rb'))"
      ]
    },
    {
      "cell_type": "code",
      "execution_count": null,
      "metadata": {
        "id": "KRjn30P_iJNb"
      },
      "outputs": [],
      "source": [
        "X_new = X_train[0]\n",
        "print(X)"
      ]
    },
    {
      "cell_type": "code",
      "execution_count": null,
      "metadata": {
        "id": "d6-aQecdiJR5"
      },
      "outputs": [],
      "source": [
        "prediction = loaded_model.predict(X_new)\n",
        "print(prediction)"
      ]
    },
    {
      "cell_type": "code",
      "execution_count": null,
      "metadata": {
        "id": "wQ63LS5WiJUe"
      },
      "outputs": [],
      "source": [
        "nc = 'women are beautiful'\n",
        "\n",
        "nc_vectorized = vectorizer.transform([nc])\n",
        "\n",
        "predi = loaded_model.predict(nc_vectorized)\n",
        "print(predi[0])"
      ]
    },
    {
      "cell_type": "code",
      "execution_count": null,
      "metadata": {
        "id": "yZBokbH2k3bl"
      },
      "outputs": [],
      "source": [
        "pickle.dump(vectorizer, open('vectorizer1.sav', 'wb'))"
      ]
    }
  ],
  "metadata": {
    "accelerator": "GPU",
    "colab": {
      "gpuType": "T4",
      "provenance": []
    },
    "kernelspec": {
      "display_name": "Python 3",
      "name": "python3"
    },
    "language_info": {
      "name": "python"
    }
  },
  "nbformat": 4,
  "nbformat_minor": 0
}
